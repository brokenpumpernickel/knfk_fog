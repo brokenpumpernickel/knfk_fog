{
 "cells": [
  {
   "cell_type": "code",
   "execution_count": 6,
   "metadata": {},
   "outputs": [
    {
     "ename": "NameError",
     "evalue": "name 'type_check' is not defined",
     "output_type": "error",
     "traceback": [
      "\u001b[1;31m---------------------------------------------------------------------------\u001b[0m",
      "\u001b[1;31mNameError\u001b[0m                                 Traceback (most recent call last)",
      "\u001b[1;32mc:\\Projekty\\knfk_fog\\src\\krzywe_lissajous.ipynb Cell 1'\u001b[0m in \u001b[0;36m<module>\u001b[1;34m\u001b[0m\n\u001b[1;32m----> <a href='vscode-notebook-cell:/c%3A/Projekty/knfk_fog/src/krzywe_lissajous.ipynb#ch0000000?line=0'>1</a>\u001b[0m \u001b[39mimport\u001b[39;00m \u001b[39mmatplotlib\u001b[39;00m \u001b[39mas\u001b[39;00m \u001b[39mmpl\u001b[39;00m\n\u001b[0;32m      <a href='vscode-notebook-cell:/c%3A/Projekty/knfk_fog/src/krzywe_lissajous.ipynb#ch0000000?line=1'>2</a>\u001b[0m \u001b[39mimport\u001b[39;00m \u001b[39mmatplotlib\u001b[39;00m\u001b[39m.\u001b[39;00m\u001b[39mpyplot\u001b[39;00m \u001b[39mas\u001b[39;00m \u001b[39mplt\u001b[39;00m\n\u001b[0;32m      <a href='vscode-notebook-cell:/c%3A/Projekty/knfk_fog/src/krzywe_lissajous.ipynb#ch0000000?line=2'>3</a>\u001b[0m \u001b[39mimport\u001b[39;00m \u001b[39mnumpy\u001b[39;00m \u001b[39mas\u001b[39;00m \u001b[39mnp\u001b[39;00m\n",
      "File \u001b[1;32mc:\\Projekty\\knfk_fog\\.venv\\lib\\site-packages\\matplotlib\\__init__.py:104\u001b[0m, in \u001b[0;36m<module>\u001b[1;34m\u001b[0m\n\u001b[0;32m    <a href='file:///c%3A/Projekty/knfk_fog/.venv/lib/site-packages/matplotlib/__init__.py?line=100'>101</a>\u001b[0m \u001b[39mimport\u001b[39;00m \u001b[39mtempfile\u001b[39;00m\n\u001b[0;32m    <a href='file:///c%3A/Projekty/knfk_fog/.venv/lib/site-packages/matplotlib/__init__.py?line=101'>102</a>\u001b[0m \u001b[39mimport\u001b[39;00m \u001b[39mwarnings\u001b[39;00m\n\u001b[1;32m--> <a href='file:///c%3A/Projekty/knfk_fog/.venv/lib/site-packages/matplotlib/__init__.py?line=103'>104</a>\u001b[0m \u001b[39mimport\u001b[39;00m \u001b[39mnumpy\u001b[39;00m\n\u001b[0;32m    <a href='file:///c%3A/Projekty/knfk_fog/.venv/lib/site-packages/matplotlib/__init__.py?line=104'>105</a>\u001b[0m \u001b[39mfrom\u001b[39;00m \u001b[39mpackaging\u001b[39;00m\u001b[39m.\u001b[39;00m\u001b[39mversion\u001b[39;00m \u001b[39mimport\u001b[39;00m parse \u001b[39mas\u001b[39;00m parse_version\n\u001b[0;32m    <a href='file:///c%3A/Projekty/knfk_fog/.venv/lib/site-packages/matplotlib/__init__.py?line=106'>107</a>\u001b[0m \u001b[39m# cbook must import matplotlib only within function\u001b[39;00m\n\u001b[0;32m    <a href='file:///c%3A/Projekty/knfk_fog/.venv/lib/site-packages/matplotlib/__init__.py?line=107'>108</a>\u001b[0m \u001b[39m# definitions, so it is safe to import from it here.\u001b[39;00m\n",
      "File \u001b[1;32mc:\\Projekty\\knfk_fog\\.venv\\lib\\site-packages\\numpy\\__init__.py:147\u001b[0m, in \u001b[0;36m<module>\u001b[1;34m\u001b[0m\n\u001b[0;32m    <a href='file:///c%3A/Projekty/knfk_fog/.venv/lib/site-packages/numpy/__init__.py?line=144'>145</a>\u001b[0m \u001b[39mfrom\u001b[39;00m \u001b[39m.\u001b[39;00m\u001b[39mcore\u001b[39;00m \u001b[39mimport\u001b[39;00m \u001b[39m*\u001b[39m\n\u001b[0;32m    <a href='file:///c%3A/Projekty/knfk_fog/.venv/lib/site-packages/numpy/__init__.py?line=145'>146</a>\u001b[0m \u001b[39mfrom\u001b[39;00m \u001b[39m.\u001b[39;00m \u001b[39mimport\u001b[39;00m compat\n\u001b[1;32m--> <a href='file:///c%3A/Projekty/knfk_fog/.venv/lib/site-packages/numpy/__init__.py?line=146'>147</a>\u001b[0m \u001b[39mfrom\u001b[39;00m \u001b[39m.\u001b[39;00m \u001b[39mimport\u001b[39;00m lib\n\u001b[0;32m    <a href='file:///c%3A/Projekty/knfk_fog/.venv/lib/site-packages/numpy/__init__.py?line=147'>148</a>\u001b[0m \u001b[39m# NOTE: to be revisited following future namespace cleanup.\u001b[39;00m\n\u001b[0;32m    <a href='file:///c%3A/Projekty/knfk_fog/.venv/lib/site-packages/numpy/__init__.py?line=148'>149</a>\u001b[0m \u001b[39m# See gh-14454 and gh-15672 for discussion.\u001b[39;00m\n\u001b[0;32m    <a href='file:///c%3A/Projekty/knfk_fog/.venv/lib/site-packages/numpy/__init__.py?line=149'>150</a>\u001b[0m \u001b[39mfrom\u001b[39;00m \u001b[39m.\u001b[39;00m\u001b[39mlib\u001b[39;00m \u001b[39mimport\u001b[39;00m \u001b[39m*\u001b[39m\n",
      "File \u001b[1;32mc:\\Projekty\\knfk_fog\\.venv\\lib\\site-packages\\numpy\\lib\\__init__.py:44\u001b[0m, in \u001b[0;36m<module>\u001b[1;34m\u001b[0m\n\u001b[0;32m     <a href='file:///c%3A/Projekty/knfk_fog/.venv/lib/site-packages/numpy/lib/__init__.py?line=40'>41</a>\u001b[0m \u001b[39mfrom\u001b[39;00m \u001b[39mnumpy\u001b[39;00m\u001b[39m.\u001b[39;00m\u001b[39mcore\u001b[39;00m\u001b[39m.\u001b[39;00m\u001b[39m_multiarray_umath\u001b[39;00m \u001b[39mimport\u001b[39;00m tracemalloc_domain\n\u001b[0;32m     <a href='file:///c%3A/Projekty/knfk_fog/.venv/lib/site-packages/numpy/lib/__init__.py?line=42'>43</a>\u001b[0m __all__ \u001b[39m=\u001b[39m [\u001b[39m'\u001b[39m\u001b[39memath\u001b[39m\u001b[39m'\u001b[39m, \u001b[39m'\u001b[39m\u001b[39mmath\u001b[39m\u001b[39m'\u001b[39m, \u001b[39m'\u001b[39m\u001b[39mtracemalloc_domain\u001b[39m\u001b[39m'\u001b[39m, \u001b[39m'\u001b[39m\u001b[39mArrayterator\u001b[39m\u001b[39m'\u001b[39m]\n\u001b[1;32m---> <a href='file:///c%3A/Projekty/knfk_fog/.venv/lib/site-packages/numpy/lib/__init__.py?line=43'>44</a>\u001b[0m __all__ \u001b[39m+\u001b[39m\u001b[39m=\u001b[39m type_check\u001b[39m.\u001b[39m__all__\n\u001b[0;32m     <a href='file:///c%3A/Projekty/knfk_fog/.venv/lib/site-packages/numpy/lib/__init__.py?line=44'>45</a>\u001b[0m __all__ \u001b[39m+\u001b[39m\u001b[39m=\u001b[39m index_tricks\u001b[39m.\u001b[39m__all__\n\u001b[0;32m     <a href='file:///c%3A/Projekty/knfk_fog/.venv/lib/site-packages/numpy/lib/__init__.py?line=45'>46</a>\u001b[0m __all__ \u001b[39m+\u001b[39m\u001b[39m=\u001b[39m function_base\u001b[39m.\u001b[39m__all__\n",
      "\u001b[1;31mNameError\u001b[0m: name 'type_check' is not defined"
     ]
    }
   ],
   "source": [
    "import matplotlib as mpl\n",
    "import matplotlib.pyplot as plt\n",
    "import numpy as np\n",
    "import ipywidgets as widgets"
   ]
  },
  {
   "cell_type": "code",
   "execution_count": null,
   "metadata": {},
   "outputs": [],
   "source": [
    "def punkty(a,b,delta):\n",
    "    x,y=0,0\n",
    "    lx,ly=[],[]\n",
    "    t=0.001\n",
    "    for i in range(10000):\n",
    "        x=100*np.sin(a*t*i+delta)\n",
    "        y=100*np.sin(b*t*i)\n",
    "        lx.append(x)\n",
    "        ly.append(y)\n",
    "    plt.figure(figsize=(5, 5), layout='constrained')\n",
    "    plt.plot(lx, ly)\n",
    "    plt.title(\"Lissajous curve\")"
   ]
  },
  {
   "cell_type": "code",
   "execution_count": null,
   "metadata": {},
   "outputs": [],
   "source": [
    "caption = widgets.Label(value='Wartości zmiennych:')\n",
    "w = widgets.IntSlider( description='a:', min=1, max=10, orientation='horizontal')\n",
    "s = widgets.IntSlider( description='b:', min=1, max=10, orientation='horizontal')\n",
    "g = widgets.FloatSlider( description=r'$\\delta $ :', min=0, max=np.pi, orientation='horizontal', step=0.01)\n",
    "display(w, s, g)"
   ]
  },
  {
   "cell_type": "code",
   "execution_count": null,
   "metadata": {},
   "outputs": [],
   "source": [
    "punkty(w.value, s.value, g.value)"
   ]
  }
 ],
 "metadata": {
  "interpreter": {
   "hash": "c267f0e06747d2600cc690de7c03bae61c974152d1a84f1bb18989690eaa324f"
  },
  "kernelspec": {
   "display_name": "Python 3.9.6 ('.venv': poetry)",
   "language": "python",
   "name": "python3"
  },
  "language_info": {
   "codemirror_mode": {
    "name": "ipython",
    "version": 3
   },
   "file_extension": ".py",
   "mimetype": "text/x-python",
   "name": "python",
   "nbconvert_exporter": "python",
   "pygments_lexer": "ipython3",
   "version": "3.9.6"
  },
  "orig_nbformat": 4
 },
 "nbformat": 4,
 "nbformat_minor": 2
}
