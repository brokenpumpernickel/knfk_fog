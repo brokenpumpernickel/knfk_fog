{
 "cells": [
  {
   "cell_type": "code",
   "execution_count": null,
   "metadata": {},
   "outputs": [],
   "source": [
    "import numpy as np\n",
    "from scipy.signal import convolve2d\n",
    "import matplotlib.pyplot as plt\n",
    "from matplotlib.colors import SymLogNorm\n",
    "from matplotlib.animation import FuncAnimation\n",
    "from IPython.display import HTML\n",
    "from tqdm import tqdm\n",
    "\n",
    "plt.rcParams['animation.embed_limit'] = 2**128"
   ]
  },
  {
   "cell_type": "code",
   "execution_count": null,
   "metadata": {},
   "outputs": [],
   "source": [
    "fps = 60\n",
    "\n",
    "pos_min = -1\n",
    "pos_max = 1\n",
    "N = 1000\n",
    "dx = (pos_max - pos_min) / (N - 1)\n",
    "\n",
    "dt = 0.1 * dx\n",
    "T_max = 1.5\n",
    "frames = int(T_max / dt)\n",
    "\n",
    "stretch = 5\n",
    "frame_select = np.rint(1 / (stretch * dt * fps)).astype(np.int64)\n",
    "\n",
    "d = dt**2 / dx**2\n",
    "\n",
    "source_x = int(N / 2)\n",
    "source_y = 800\n",
    "source_A = 1\n",
    "source_omega = 2 * np.pi * 10\n",
    "\n",
    "kernel = np.array([[0, d, 0],\n",
    "                   [d, 2 - 4 * d, d],\n",
    "                   [0, d, 0]])\n",
    "\n",
    "frames, frame_select"
   ]
  },
  {
   "cell_type": "code",
   "execution_count": null,
   "metadata": {},
   "outputs": [],
   "source": [
    "prev_array = np.zeros((N, N))\n",
    "curr_array = np.zeros((N, N))\n",
    "\n",
    "solutions = [curr_array]\n",
    "\n",
    "for i in tqdm(range(frames)):\n",
    "    # Wave eq solution\n",
    "\n",
    "    next_array = convolve2d(curr_array, kernel, mode = 'same') - prev_array\n",
    "    \n",
    "    prev_array = curr_array\n",
    "    curr_array = next_array\n",
    "\n",
    "    # Source setup\n",
    "\n",
    "    t = (i + 1) * dt\n",
    "\n",
    "    #curr_array[source_y, source_x] = source_A * np.sin(source_omega * t)\n",
    "    curr_array[source_y, 400:600] = source_A * np.sin(source_omega * t)\n",
    "    curr_array[source_y - 200, 0:430] = 0\n",
    "    curr_array[source_y - 200, 450:550] = 0\n",
    "    curr_array[source_y - 200, 570:1000] = 0\n",
    "\n",
    "    if (i + 1) % frame_select == 0:\n",
    "        solutions.append(curr_array)\n",
    "\n",
    "len(solutions)"
   ]
  },
  {
   "cell_type": "code",
   "execution_count": null,
   "metadata": {},
   "outputs": [],
   "source": [
    "scale = 0.1\n",
    "\n",
    "min_val = np.min(solutions)\n",
    "max_val = np.max(solutions)\n",
    "edge_val = np.max((np.abs(min_val), np.abs(max_val)))\n",
    "edge_val_rescaled = edge_val * scale\n",
    "print(min_val, max_val, edge_val)"
   ]
  },
  {
   "cell_type": "code",
   "execution_count": null,
   "metadata": {},
   "outputs": [],
   "source": [
    "fig, ax = plt.subplots(figsize = (6, 6))\n",
    "ax.axes.get_xaxis().set_visible(False)\n",
    "ax.axes.get_yaxis().set_visible(False)\n",
    "fig.subplots_adjust(left = 0, bottom = 0, right = 1, top = 1, wspace = None, hspace = None)\n",
    "\n",
    "#im = ax.imshow(solutions[0], vmin = np.sign(min_val) * edge_val_rescaled, vmax = np.sign(max_val) * edge_val_rescaled, cmap = 'twilight')\n",
    "im = ax.imshow(solutions[0], cmap = 'twilight', norm = SymLogNorm(linthresh = edge_val_rescaled, vmin = np.sign(min_val) * edge_val, vmax = np.sign(max_val) * edge_val))\n",
    "plt.close()\n",
    "\n",
    "def frame(i):\n",
    "    im.set_array(solutions[i])\n",
    "    return im,\n",
    "\n",
    "anim = FuncAnimation(fig, frame, frames = len(solutions), interval = 1000 / fps, blit = True)\n",
    "HTML(anim.to_jshtml())"
   ]
  }
 ],
 "metadata": {
  "kernelspec": {
   "display_name": "Python 3.9.7 ('.venv': poetry)",
   "language": "python",
   "name": "python3"
  },
  "language_info": {
   "codemirror_mode": {
    "name": "ipython",
    "version": 3
   },
   "file_extension": ".py",
   "mimetype": "text/x-python",
   "name": "python",
   "nbconvert_exporter": "python",
   "pygments_lexer": "ipython3",
   "version": "3.9.7"
  },
  "orig_nbformat": 4,
  "vscode": {
   "interpreter": {
    "hash": "ffdb30cba3938f93f8038e6dee1bffed3d17df1aba2eef60319580187fb31517"
   }
  }
 },
 "nbformat": 4,
 "nbformat_minor": 2
}
