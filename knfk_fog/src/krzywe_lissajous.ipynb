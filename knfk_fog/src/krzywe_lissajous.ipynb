{
 "cells": [
  {
   "cell_type": "code",
   "execution_count": 1,
   "metadata": {},
   "outputs": [],
   "source": [
    "import matplotlib as mpl\n",
    "import matplotlib.pyplot as plt\n",
    "import numpy as np\n",
    "import ipywidgets as widgets\n",
    "from ipywidgets import interact, interactive, fixed, interact_manual"
   ]
  },
  {
   "cell_type": "code",
   "execution_count": 2,
   "metadata": {},
   "outputs": [],
   "source": [
    "def punkty(a,b,delta):\n",
    "    x,y=0,0\n",
    "    lx,ly=[],[]\n",
    "    t=0.001\n",
    "    for i in range(10000):\n",
    "        x=100*np.sin(a*t*i+delta)\n",
    "        y=100*np.sin(b*t*i)\n",
    "        lx.append(x)\n",
    "        ly.append(y)\n",
    "    plt.figure(figsize=(5, 5), layout='constrained')\n",
    "    plt.plot(lx, ly)\n",
    "    plt.title(\"Lissajous curve\")"
   ]
  },
  {
   "cell_type": "code",
   "execution_count": 3,
   "metadata": {},
   "outputs": [
    {
     "data": {
      "application/vnd.jupyter.widget-view+json": {
       "model_id": "fbf07588fac047c7824fe82caff5f3bd",
       "version_major": 2,
       "version_minor": 0
      },
      "text/plain": [
       "IntSlider(value=1, description='a:', max=10, min=1)"
      ]
     },
     "metadata": {},
     "output_type": "display_data"
    },
    {
     "data": {
      "application/vnd.jupyter.widget-view+json": {
       "model_id": "946aee751554408289a18172f5e9a9ca",
       "version_major": 2,
       "version_minor": 0
      },
      "text/plain": [
       "IntSlider(value=1, description='b:', max=10, min=1)"
      ]
     },
     "metadata": {},
     "output_type": "display_data"
    },
    {
     "data": {
      "application/vnd.jupyter.widget-view+json": {
       "model_id": "3d3588f8d8154546a3ba3568a9fc2070",
       "version_major": 2,
       "version_minor": 0
      },
      "text/plain": [
       "FloatSlider(value=0.0, description='$\\\\delta $ :', max=3.141592653589793, step=0.01)"
      ]
     },
     "metadata": {},
     "output_type": "display_data"
    }
   ],
   "source": [
    "caption = widgets.Label(value='Wartości zmiennych:')\n",
    "w = widgets.IntSlider( description='a:', min=1, max=10, orientation='horizontal')\n",
    "s = widgets.IntSlider( description='b:', min=1, max=10, orientation='horizontal')\n",
    "g = widgets.FloatSlider( description=r'$\\delta $ :', min=0, max=np.pi, orientation='horizontal', step=0.01)\n",
    "display(w, s, g)"
   ]
  },
  {
   "cell_type": "code",
   "execution_count": 4,
   "metadata": {},
   "outputs": [
    {
     "data": {
      "image/png": "[encoded data removed]",
      "text/plain": [
       "<Figure size 360x360 with 1 Axes>"
      ]
     },
     "metadata": {
      "needs_background": "light"
     },
     "output_type": "display_data"
    }
   ],
   "source": [
    "punkty(w.value, s.value, g.value)"
   ]
  }
 ],
 "metadata": {
  "interpreter": {
   "hash": "c267f0e06747d2600cc690de7c03bae61c974152d1a84f1bb18989690eaa324f"
  },
  "kernelspec": {
   "display_name": "Python 3.9.6 ('.venv': poetry)",
   "language": "python",
   "name": "python3"
  },
  "language_info": {
   "codemirror_mode": {
    "name": "ipython",
    "version": 3
   },
   "file_extension": ".py",
   "mimetype": "text/x-python",
   "name": "python",
   "nbconvert_exporter": "python",
   "pygments_lexer": "ipython3",
   "version": "3.9.6"
  },
  "orig_nbformat": 4
 },
 "nbformat": 4,
 "nbformat_minor": 2
}
